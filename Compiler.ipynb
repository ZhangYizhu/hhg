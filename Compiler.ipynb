{
 "cells": [
  {
   "cell_type": "code",
   "execution_count": 5,
   "metadata": {
    "collapsed": false,
    "deletable": true,
    "editable": true
   },
   "outputs": [
    {
     "name": "stdout",
     "output_type": "stream",
     "text": [
      "Overwriting HHG_Cal.pyx\n"
     ]
    }
   ],
   "source": [
    "%%file HHG_Cal.pyx\n",
    "\n",
    "import cython\n",
    "import numpy as np\n",
    "cimport numpy as np\n",
    "#cdef extern from \"complex.h\":\n",
    "    #pass\n",
    "#from libc.math import exp\n",
    "\n",
    "#from libcpp.vector cimport vector\n",
    "#from libc.math import exp\n",
    "\n",
    "\n",
    "@cython.boundscheck(False)\n",
    "@cython.wraparound(False)\n",
    "\n",
    "cdef inline double complex Dipole(double p):\n",
    "    return - 1j * 11.3137 * p / (3.1415926 * (p * p + 1) * (p * p + 1) * (p * p + 1))\n",
    "\n",
    "def HHG_Cal(np.ndarray[dtype = np.double_t, ndim = 1] A, np.ndarray[dtype = np.double_t, ndim =1] E, double dt):\n",
    "\n",
    "    cdef np.ndarray[dtype = np.double_t, ndim = 1] hhg_temp = np.zeros (A.size)\n",
    "    cdef int i, j, n\n",
    "    cdef double A_int, S_int, p_pm\n",
    "    cdef double complex hhg_int, D_co, D\n",
    "    n = A.size\n",
    "\n",
    "    for i in range(n):\n",
    "    \n",
    "        A_int = 0.0\n",
    "        hhg_int = 0.0\n",
    "        S_int = 0.0\n",
    "        D_co = 0.0\n",
    "        D = 0.0\n",
    "    \n",
    "        for j in range(1, i):\n",
    "            A_int = A_int + A[i - j] * dt\n",
    "            p_pm = - A_int / (j * dt)\n",
    "            D_co = np.conj (Dipole (p_pm + A[i]))\n",
    "            D = Dipole (p_pm + A[i - j])\n",
    "            S_int = S_int + (0.5 * (p_pm + A[i - j]) * (p_pm + A[i - j]) + 0.5) * dt\n",
    "            hhg_int = hhg_int + (2 * 3.1415926 /(1j * j * dt)) ** 1.5 * D_co * D * E[i - j] * np.exp(-1j * S_int) * dt\n",
    "        \n",
    "        hhg_temp[i] = np.real(hhg_int)\n",
    "        \n",
    "    return hhg_temp\n"
   ]
  },
  {
   "cell_type": "code",
   "execution_count": 6,
   "metadata": {
    "collapsed": false,
    "deletable": true,
    "editable": true
   },
   "outputs": [
    {
     "name": "stdout",
     "output_type": "stream",
     "text": [
      "Overwriting setup.py\n"
     ]
    }
   ],
   "source": [
    "%%file setup.py\n",
    "from distutils.core import setup\n",
    "from distutils.extension import Extension\n",
    "from Cython.Distutils import build_ext\n",
    "import numpy as np\n",
    "\n",
    "ext = Extension(\"HHG_Cal\", sources = [\"HHG_Cal.pyx\"], include_dirs = [np.get_include()])\n",
    "\n",
    "setup(ext_modules = [ext], cmdclass = {'build_ext': build_ext})"
   ]
  },
  {
   "cell_type": "code",
   "execution_count": 7,
   "metadata": {
    "collapsed": false,
    "deletable": true,
    "editable": true
   },
   "outputs": [
    {
     "name": "stdout",
     "output_type": "stream",
     "text": [
      "running build_ext\n",
      "cythoning HHG_Cal.pyx to HHG_Cal.c\n",
      "building 'HHG_Cal' extension\n",
      "gcc -pthread -fno-strict-aliasing -g -O2 -DNDEBUG -g -fwrapv -O3 -Wall -Wstrict-prototypes -fPIC -I/home/yizhu/anaconda2/lib/python2.7/site-packages/numpy/core/include -I/home/yizhu/anaconda2/include/python2.7 -c HHG_Cal.c -o build/temp.linux-x86_64-2.7/HHG_Cal.o\n",
      "In file included from \u001b[01m\u001b[K/home/yizhu/anaconda2/lib/python2.7/site-packages/numpy/core/include/numpy/ndarraytypes.h:1788:0\u001b[m\u001b[K,\n",
      "                 from \u001b[01m\u001b[K/home/yizhu/anaconda2/lib/python2.7/site-packages/numpy/core/include/numpy/ndarrayobject.h:18\u001b[m\u001b[K,\n",
      "                 from \u001b[01m\u001b[K/home/yizhu/anaconda2/lib/python2.7/site-packages/numpy/core/include/numpy/arrayobject.h:4\u001b[m\u001b[K,\n",
      "                 from \u001b[01m\u001b[KHHG_Cal.c:435\u001b[m\u001b[K:\n",
      "\u001b[01m\u001b[K/home/yizhu/anaconda2/lib/python2.7/site-packages/numpy/core/include/numpy/npy_1_7_deprecated_api.h:15:2:\u001b[m\u001b[K \u001b[01;35m\u001b[Kwarning: \u001b[m\u001b[K#warning \"Using deprecated NumPy API, disable it by \" \"#defining NPY_NO_DEPRECATED_API NPY_1_7_API_VERSION\" [-Wcpp]\n",
      " #warning \"Using deprecated NumPy API, disable it by \" \\\n",
      "\u001b[01;32m\u001b[K  ^\u001b[m\u001b[K\n",
      "\u001b[01m\u001b[KHHG_Cal.c:437:18:\u001b[m\u001b[K \u001b[01;31m\u001b[Kfatal error: \u001b[m\u001b[Kvector: No such file or directory\n",
      "compilation terminated.\n",
      "error: command 'gcc' failed with exit status 1\n"
     ]
    }
   ],
   "source": [
    "!python setup.py build_ext --inplace"
   ]
  },
  {
   "cell_type": "code",
   "execution_count": null,
   "metadata": {
    "collapsed": true,
    "deletable": true,
    "editable": true
   },
   "outputs": [],
   "source": []
  }
 ],
 "metadata": {
  "kernelspec": {
   "display_name": "Python 2",
   "language": "python",
   "name": "python2"
  },
  "language_info": {
   "codemirror_mode": {
    "name": "ipython",
    "version": 2
   },
   "file_extension": ".py",
   "mimetype": "text/x-python",
   "name": "python",
   "nbconvert_exporter": "python",
   "pygments_lexer": "ipython2",
   "version": "2.7.13"
  }
 },
 "nbformat": 4,
 "nbformat_minor": 2
}
